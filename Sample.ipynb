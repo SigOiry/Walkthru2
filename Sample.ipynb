{
 "cells": [
  {
   "cell_type": "markdown",
   "id": "16b60fff-9ef7-441c-82e1-12f86497b9b5",
   "metadata": {},
   "source": [
    "# Walkthru sample notebook"
   ]
  },
  {
   "cell_type": "markdown",
   "id": "9acf61a4-b760-4bba-9191-c2622294cbb6",
   "metadata": {},
   "source": [
    "Here is how I calculate `1+1`"
   ]
  },
  {
   "cell_type": "code",
   "execution_count": 1,
   "id": "86fa902c-f58a-4a36-b2bd-04d731dc5ba2",
   "metadata": {},
   "outputs": [
    {
     "data": {
      "text/plain": [
       "2"
      ]
     },
     "execution_count": 1,
     "metadata": {},
     "output_type": "execute_result"
    }
   ],
   "source": [
    "1+1"
   ]
  },
  {
   "cell_type": "code",
   "execution_count": 2,
   "id": "5e8151ca-bb40-4aae-83dd-9b542def7132",
   "metadata": {},
   "outputs": [],
   "source": [
    "from numpy import *"
   ]
  },
  {
   "cell_type": "markdown",
   "id": "4675d7e8-6bfa-4df1-a1ed-5ba97efa0ee9",
   "metadata": {},
   "source": [
    "Here's how I calculate `sin` "
   ]
  },
  {
   "cell_type": "code",
   "execution_count": 3,
   "id": "bb727cb4-e5b6-49dd-82ec-71ee1abf4597",
   "metadata": {},
   "outputs": [
    {
     "data": {
      "text/plain": [
       "array([0.84147098, 1.        ])"
      ]
     },
     "execution_count": 3,
     "metadata": {},
     "output_type": "execute_result"
    }
   ],
   "source": [
    "a = array([1.0, pi/2])\n",
    "sin(a)"
   ]
  }
 ],
 "metadata": {
  "kernelspec": {
   "display_name": "Python 3 (ipykernel)",
   "language": "python",
   "name": "python3"
  },
  "language_info": {
   "codemirror_mode": {
    "name": "ipython",
    "version": 3
   },
   "file_extension": ".py",
   "mimetype": "text/x-python",
   "name": "python",
   "nbconvert_exporter": "python",
   "pygments_lexer": "ipython3",
   "version": "3.10.6"
  }
 },
 "nbformat": 4,
 "nbformat_minor": 5
}
